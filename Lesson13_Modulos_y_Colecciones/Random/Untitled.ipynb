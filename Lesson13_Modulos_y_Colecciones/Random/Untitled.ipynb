{
 "cells": [
  {
   "cell_type": "code",
   "execution_count": 8,
   "id": "925274eb",
   "metadata": {},
   "outputs": [],
   "source": [
    "# Random\n",
    "# Generador de numeros aleatorios"
   ]
  },
  {
   "cell_type": "code",
   "execution_count": 12,
   "id": "e7294be1",
   "metadata": {},
   "outputs": [],
   "source": [
    "# Importamos el modulo\n",
    "import random"
   ]
  },
  {
   "cell_type": "code",
   "execution_count": 15,
   "id": "aaa2bffb",
   "metadata": {},
   "outputs": [
    {
     "data": {
      "text/plain": [
       "0.6583825674951518"
      ]
     },
     "execution_count": 15,
     "metadata": {},
     "output_type": "execute_result"
    }
   ],
   "source": [
    "random.random() # >= 0 y < 1.0"
   ]
  },
  {
   "cell_type": "code",
   "execution_count": 16,
   "id": "e6e61da8",
   "metadata": {},
   "outputs": [
    {
     "data": {
      "text/plain": [
       "7.629887923846717"
      ]
     },
     "execution_count": 16,
     "metadata": {},
     "output_type": "execute_result"
    }
   ],
   "source": [
    "# Rango\n",
    "random.uniform(1,10) # >=1 y < 10"
   ]
  },
  {
   "cell_type": "code",
   "execution_count": 18,
   "id": "6fc50194",
   "metadata": {},
   "outputs": [
    {
     "data": {
      "text/plain": [
       "5"
      ]
     },
     "execution_count": 18,
     "metadata": {},
     "output_type": "execute_result"
    }
   ],
   "source": [
    "# Rango de numeros enteros\n",
    "random.randrange(10) # >= 0 y < 10"
   ]
  },
  {
   "cell_type": "code",
   "execution_count": 24,
   "id": "e856b1ce",
   "metadata": {},
   "outputs": [
    {
     "data": {
      "text/plain": [
       "95"
      ]
     },
     "execution_count": 24,
     "metadata": {},
     "output_type": "execute_result"
    }
   ],
   "source": [
    "random.randrange(0, 101) # >= 0 y < 101"
   ]
  },
  {
   "cell_type": "code",
   "execution_count": 50,
   "id": "4ba94e8b",
   "metadata": {},
   "outputs": [
    {
     "data": {
      "text/plain": [
       "20"
      ]
     },
     "execution_count": 50,
     "metadata": {},
     "output_type": "execute_result"
    }
   ],
   "source": [
    "random.randrange(0, 101, 2) # Rango entre 0 y 100 y que al avez cuente los multiplos de 2"
   ]
  },
  {
   "cell_type": "code",
   "execution_count": 52,
   "id": "5397070c",
   "metadata": {},
   "outputs": [
    {
     "data": {
      "text/plain": [
       "100"
      ]
     },
     "execution_count": 52,
     "metadata": {},
     "output_type": "execute_result"
    }
   ],
   "source": [
    "random.randrange(0, 101, 5) # Rango entre 0 y 100 y que al avez cuente los multiplos de 5"
   ]
  },
  {
   "cell_type": "code",
   "execution_count": null,
   "id": "d3f591e9",
   "metadata": {},
   "outputs": [],
   "source": [
    "# Colecciones\n",
    "c = \"Hola mundo\"\n",
    "# Queremos escoger aleatoriamente un elemento "
   ]
  }
 ],
 "metadata": {
  "kernelspec": {
   "display_name": "Python 3 (ipykernel)",
   "language": "python",
   "name": "python3"
  },
  "language_info": {
   "codemirror_mode": {
    "name": "ipython",
    "version": 3
   },
   "file_extension": ".py",
   "mimetype": "text/x-python",
   "name": "python",
   "nbconvert_exporter": "python",
   "pygments_lexer": "ipython3",
   "version": "3.10.6"
  }
 },
 "nbformat": 4,
 "nbformat_minor": 5
}
