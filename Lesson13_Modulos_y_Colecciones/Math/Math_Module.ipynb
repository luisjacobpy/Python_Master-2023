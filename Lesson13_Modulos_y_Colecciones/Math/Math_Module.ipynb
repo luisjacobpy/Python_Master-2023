{
 "cells": [
  {
   "cell_type": "code",
   "execution_count": 1,
   "id": "d43f5650",
   "metadata": {},
   "outputs": [],
   "source": [
    "\"\"\"Math module,\n",
    "Integra una serie de funciones, metodos para trabajar con matematicas.\n",
    "\"\"\"\n",
    "import math\n"
   ]
  },
  {
   "cell_type": "code",
   "execution_count": 2,
   "id": "301e0623",
   "metadata": {},
   "outputs": [],
   "source": [
    "pi = 3.14159"
   ]
  },
  {
   "cell_type": "code",
   "execution_count": 3,
   "id": "9116b234",
   "metadata": {},
   "outputs": [
    {
     "data": {
      "text/plain": [
       "3"
      ]
     },
     "execution_count": 3,
     "metadata": {},
     "output_type": "execute_result"
    }
   ],
   "source": [
    "# Redondear pi, si el numero es menor que 5 redondea a la baja.\n",
    "round(pi)"
   ]
  },
  {
   "cell_type": "code",
   "execution_count": 5,
   "id": "a386221b",
   "metadata": {},
   "outputs": [
    {
     "data": {
      "text/plain": [
       "3"
      ]
     },
     "execution_count": 5,
     "metadata": {},
     "output_type": "execute_result"
    }
   ],
   "source": [
    "# Gracias al modulo math, podemos forzar redondeos a la alta o a la baja.\n",
    "# Queremos redondear pi a la baja\n",
    "math.floor(pi)"
   ]
  },
  {
   "cell_type": "code",
   "execution_count": null,
   "id": "45f85e3f",
   "metadata": {},
   "outputs": [],
   "source": [
    "# Redondear hacia la a"
   ]
  }
 ],
 "metadata": {
  "kernelspec": {
   "display_name": "Python 3 (ipykernel)",
   "language": "python",
   "name": "python3"
  },
  "language_info": {
   "codemirror_mode": {
    "name": "ipython",
    "version": 3
   },
   "file_extension": ".py",
   "mimetype": "text/x-python",
   "name": "python",
   "nbconvert_exporter": "python",
   "pygments_lexer": "ipython3",
   "version": "3.10.6"
  }
 },
 "nbformat": 4,
 "nbformat_minor": 5
}
